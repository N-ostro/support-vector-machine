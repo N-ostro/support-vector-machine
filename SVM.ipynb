{
 "cells": [
  {
   "cell_type": "code",
   "execution_count": 9,
   "id": "7b9eeb71",
   "metadata": {},
   "outputs": [],
   "source": [
    "import numpy as np\n",
    "import pandas as pd\n",
    "from matplotlib import pyplot as plt\n",
    "from matplotlib import cm\n",
    "from scipy import io\n",
    "import cvxopt as cvp"
   ]
  },
  {
   "cell_type": "code",
   "execution_count": 10,
   "id": "b27cbcee",
   "metadata": {},
   "outputs": [],
   "source": [
    "data_lin = io.loadmat('SVM_data.mat')\n",
    "data_nonlin = io.loadmat('SVM_data_nonlinear.mat')"
   ]
  },
  {
   "cell_type": "code",
   "execution_count": 23,
   "id": "f703cc02",
   "metadata": {},
   "outputs": [
    {
     "name": "stdout",
     "output_type": "stream",
     "text": [
      "(1, 40)\n"
     ]
    }
   ],
   "source": [
    "x_lin = np.array(data_lin['x']).astype('float64')\n",
    "y_lin = np.array(data_lin['y']).astype('float64')\n",
    "y_lin = np.reshape(y_lin, (y_lin.shape[0], 1))\n",
    "n1 = x_lin.shape[0]\n",
    "\n",
    "print(y_lin.T.shape)\n",
    "\n",
    "x_nonlin = np.array(data_nonlin['x']).astype('float64')\n",
    "y_nonlin = np.array(data_nonlin['y']).astype('float64')\n",
    "y_nonlin = np.reshape(y_nonlin, (y_nonlin.shape[0], 1))\n",
    "n2 = x_nonlin.shape[0]"
   ]
  },
  {
   "cell_type": "code",
   "execution_count": 12,
   "id": "ee835478",
   "metadata": {},
   "outputs": [],
   "source": [
    "def svm_train(x, y, kernel = 'linear', P = 2, gamma = 3, C = None):\n",
    "    n = y.shape[0]\n",
    "    Q = np.zeros((n, n))\n",
    "    \n",
    "    if kernel == 'linear':\n",
    "        for i in range(n):\n",
    "            for j in range(n):\n",
    "                Q[i, j] = y[i] * y[j] * np.dot(x[i], x[j])\n",
    "    elif kernel == 'polynomial':\n",
    "        for i in range(n):\n",
    "            for j in range(n):\n",
    "                Q[i, j] = y[i] * y[j] * np.power(5 + np.dot(x[i], x[j]), P)\n",
    "    elif kernel == 'gaussian':\n",
    "        for i in range(n):\n",
    "            for j in range(n):\n",
    "                Q[i, j] = y[i] * y[j] * np.exp((-1 * np.square(np.linalg.norm(x[i] - x[j], ord = None)))/(2 * np.square(gamma)))\n",
    "    else:\n",
    "        print('Invalid kernel input!\\n')\n",
    "        return\n",
    "    \n",
    "    print((Q==Q.T).all())\n",
    "\n",
    "    P_qp = cvp.matrix(Q)\n",
    "    q_qp = cvp.matrix(np.ones((n, 1)))\n",
    "    if C is None:\n",
    "        G_qp = cvp.matrix(np.diag(np.ones(n) * -1))\n",
    "        h_qp = cvp.matrix(np.zeros(n))\n",
    "    else:\n",
    "        G_qp = cvp.matrix(np.vstack((np.diag(np.ones(n) * -1), np.identity(n))))\n",
    "        h_qp = cvp.matrix(np.hstack((np.zeros(n), np.ones(n) * C)))\n",
    "    A_qp = cvp.matrix(y.T)\n",
    "    b_qp = cvp.matrix(0.0)\n",
    "\n",
    "    alphas = cvp.solvers.qp(P = P_qp, q = -q_qp, G = G_qp, h = h_qp, A = A_qp, b = b_qp)['x']\n",
    "    alphas = np.array(alphas)\n",
    "    \n",
    "    support_vect_x = []\n",
    "    support_vect_y = []\n",
    "    alphas_nz = []\n",
    "    num_vect = 0\n",
    "    \n",
    "    for i in range(n):\n",
    "        if (alphas[i][0] > 1e-5):\n",
    "            support_vect_x.append(x[i])\n",
    "            support_vect_y.append(y[i])\n",
    "            alphas_nz.append(alphas[i])\n",
    "            num_vect += 1\n",
    "    \n",
    "    max_alpha_ind = alphas_nz.index(np.max(alphas_nz))\n",
    "    \n",
    "    support_vect_x = np.reshape(np.array(support_vect_x), (num_vect, x.shape[1]))\n",
    "    support_vect_y = np.reshape(np.array(support_vect_y), (num_vect, y.shape[1]))\n",
    "    alphas_nz = np.reshape(np.array(alphas_nz), (num_vect, alphas.shape[1]))\n",
    "\n",
    "    if num_vect > 0:\n",
    "        intercept = support_vect_y[0]\n",
    "        to_sum = 0\n",
    "        for i in range(num_vect):\n",
    "            if kernel == 'linear':\n",
    "                to_sum += alphas_nz[i] * support_vect_y[i] * np.dot(support_vect_x[i].T, support_vect_x[max_alpha_ind])\n",
    "            elif kernel == 'polynomial':\n",
    "                to_sum += alphas_nz[i] * support_vect_y[i]* np.power(5 + np.dot(support_vect_x[i].T, support_vect_x[max_alpha_ind]), P)\n",
    "            elif kernel == 'gaussian':\n",
    "                to_sum += alphas_nz[i] * support_vect_y[i] * np.exp((-1 * np.square(np.linalg.norm(support_vect_x[i] - support_vect_x[max_alpha_ind], ord = None)))/(2 * np.square(gamma)))\n",
    "        intercept = intercept - to_sum\n",
    "    \n",
    "    return support_vect_x, support_vect_y, alphas_nz, intercept\n",
    " \n",
    "    \n",
    "    \n",
    "def svm_test(x, sv_x, sv_y, alphas, intercept, kernel = 'linear', P = 2, gamma = 1):\n",
    "    num_obs = x.shape[0]\n",
    "    num_vect = sv_x.shape[0]\n",
    "    \n",
    "    y = np.zeros((num_obs, 1))\n",
    "    \n",
    "    for i in range(num_obs):\n",
    "        to_sum = 0\n",
    "        for j in range(num_vect):\n",
    "            if kernel == 'linear':\n",
    "                to_sum += alphas[j] * sv_y[j] * np.dot(sv_x[j].T, x[i])\n",
    "            elif kernel == 'polynomial':\n",
    "                to_sum += alphas[j] * sv_y[j] * np.power(5 + np.dot(sv_x[j].T, x[i]), P)\n",
    "            elif kernel == 'gaussian':\n",
    "                to_sum += alphas[j] * sv_y[j] * np.exp((-1 * np.square(np.linalg.norm(sv_x[j] - x[i], ord = None)))/(2 * np.square(gamma)))\n",
    "            else:\n",
    "                print('Invalid kernel input!\\n')\n",
    "                return\n",
    "        \n",
    "        y[i] = np.sign(to_sum + intercept)\n",
    "    \n",
    "    return y"
   ]
  },
  {
   "cell_type": "code",
   "execution_count": 13,
   "id": "2d43f0af",
   "metadata": {},
   "outputs": [
    {
     "name": "stdout",
     "output_type": "stream",
     "text": [
      "True\n",
      "     pcost       dcost       gap    pres   dres\n",
      " 0: -3.1176e+00 -5.1557e+00  9e+01  1e+01  2e+00\n",
      " 1: -1.2428e+00 -7.5360e-01  1e+01  1e+00  2e-01\n",
      " 2: -2.4063e-02 -4.7515e-01  5e-01  4e-16  1e-15\n",
      " 3: -1.6470e-01 -2.3952e-01  7e-02  1e-16  6e-16\n",
      " 4: -2.0198e-01 -2.3119e-01  3e-02  1e-16  4e-16\n",
      " 5: -2.2569e-01 -2.2975e-01  4e-03  1e-16  3e-16\n",
      " 6: -2.2907e-01 -2.2911e-01  4e-05  1e-16  4e-16\n",
      " 7: -2.2910e-01 -2.2910e-01  4e-07  9e-17  4e-16\n",
      " 8: -2.2910e-01 -2.2910e-01  4e-09  1e-16  4e-16\n",
      "Optimal solution found.\n"
     ]
    }
   ],
   "source": [
    "sv_x, sv_y, alphas, intercept = svm_train(x_lin, y_lin, 'linear')"
   ]
  },
  {
   "cell_type": "code",
   "execution_count": 14,
   "id": "21d0199a",
   "metadata": {},
   "outputs": [
    {
     "name": "stdout",
     "output_type": "stream",
     "text": [
      "[[-0.61636989  1.06270493]\n",
      " [ 0.39669013 -2.76370764]\n",
      " [ 2.33937204  0.17642596]]\n",
      "[[-1.]\n",
      " [ 1.]\n",
      " [ 1.]]\n"
     ]
    }
   ],
   "source": [
    "print(sv_x)\n",
    "print(sv_y)"
   ]
  },
  {
   "cell_type": "code",
   "execution_count": 15,
   "id": "2318c317",
   "metadata": {},
   "outputs": [
    {
     "name": "stdout",
     "output_type": "stream",
     "text": [
      "(3, 2)\n"
     ]
    }
   ],
   "source": [
    "x1 = np.linspace(np.min(x_lin[:,0]), np.max(x_lin[:,0]), 500)\n",
    "scale1 = 500/(np.max(x_lin[:,0]) - np.min(x_lin[:,0]))\n",
    "x2 = np.linspace(np.min(x_lin[:,1]), np.max(x_lin[:,1]), 500)\n",
    "scale2 = 500/(np.max(x_lin[:,1]) - np.min(x_lin[:,1]))\n",
    "\n",
    "y_list = np.zeros((500, 500))\n",
    "\n",
    "print(sv_x.shape)\n",
    "\n",
    "for i in range(500):\n",
    "    for j in range(500):\n",
    "        y_list[i, j] = svm_test(np.array([[x1[i], x2[j]]]), sv_x, sv_y, alphas, intercept, 'linear')"
   ]
  },
  {
   "cell_type": "code",
   "execution_count": 16,
   "id": "3cc51074",
   "metadata": {},
   "outputs": [
    {
     "data": {
      "text/plain": [
       "Text(0.5, 1.0, 'Graph of boundary with linearly seperable data')"
      ]
     },
     "execution_count": 16,
     "metadata": {},
     "output_type": "execute_result"
    },
    {
     "data": {
      "image/png": "[encoded data removed]",
      "text/plain": [
       "<Figure size 864x720 with 1 Axes>"
      ]
     },
     "metadata": {
      "needs_background": "light"
     },
     "output_type": "display_data"
    }
   ],
   "source": [
    "class1 = []\n",
    "class2 = []\n",
    "\n",
    "for i in range(y_lin.shape[0]):\n",
    "    if y_lin[i] == 1:\n",
    "        class1.append(x_lin[i])\n",
    "    elif y_lin[i] == -1:\n",
    "        class2.append(x_lin[i])\n",
    "\n",
    "class1 = np.array(class1)\n",
    "class2 = np.array(class2)\n",
    "\n",
    "fig, ax = plt.subplots(figsize=[12,10])\n",
    "ax.pcolormesh(y_list.T)\n",
    "ax.scatter(scale1*(sv_x[:,0] - np.min(x_lin[:,0])), scale2*(sv_x[:,1] - np.min(x_lin[:,1])), color = 'b')\n",
    "ax.scatter(scale1*(class2[:,0] - np.min(x_lin[:,0])), scale2*(class2[:,1] - np.min(x_lin[:,1])), color = 'g', marker = \"+\")\n",
    "ax.scatter(scale1*(class1[:,0]- np.min(x_lin[:,0])), scale2*(class1[:,1] - np.min(x_lin[:,1])), color = 'r', marker = \"+\")\n",
    "ax.set_title('Graph of boundary with linearly seperable data')"
   ]
  },
  {
   "cell_type": "code",
   "execution_count": 17,
   "id": "df86134c",
   "metadata": {},
   "outputs": [
    {
     "name": "stdout",
     "output_type": "stream",
     "text": [
      "True\n",
      "     pcost       dcost       gap    pres   dres\n",
      " 0: -1.1128e+01 -2.2593e+01  2e+02  2e+01  2e+00\n",
      " 1: -2.2234e+01 -2.4431e+01  1e+02  8e+00  1e+00\n",
      " 2: -9.9779e+01 -1.0522e+02  1e+02  8e+00  1e+00\n",
      " 3: -4.4755e+02 -4.2892e+02  2e+02  7e+00  1e+00\n",
      " 4: -2.8529e+02 -2.3502e+02  2e+02  6e+00  8e-01\n",
      " 5: -9.7070e+01 -4.9580e+01  2e+02  3e+00  4e-01\n",
      " 6: -2.2982e+01 -1.5066e+01  4e+01  4e-01  5e-02\n",
      " 7: -1.7679e+01 -1.3471e+01  3e+01  3e-01  4e-02\n",
      " 8: -1.1177e+01 -1.0686e+01  1e+01  1e-01  1e-02\n",
      " 9: -8.2952e+00 -8.6163e+00  1e+00  7e-03  1e-03\n",
      "10: -8.0844e+00 -8.5034e+00  7e-01  2e-03  2e-04\n",
      "11: -8.3269e+00 -8.3809e+00  7e-02  2e-04  2e-05\n",
      "12: -8.3656e+00 -8.3662e+00  8e-04  2e-06  2e-07\n",
      "13: -8.3661e+00 -8.3661e+00  8e-06  2e-08  2e-09\n",
      "14: -8.3661e+00 -8.3661e+00  8e-08  2e-10  2e-11\n",
      "Optimal solution found.\n"
     ]
    }
   ],
   "source": [
    "sv_x1, sv_y1, alphas1, intercept1 = svm_train(x_nonlin, y_nonlin, 'polynomial', P = 2, gamma = 1)"
   ]
  },
  {
   "cell_type": "code",
   "execution_count": 18,
   "id": "3ecbf96e",
   "metadata": {},
   "outputs": [],
   "source": [
    "x11 = np.linspace(np.min(x_nonlin[:,0]), np.max(x_nonlin[:,0]), 500)\n",
    "scale11 = 500/(np.max(x_nonlin[:,0]) - np.min(x_nonlin[:,0]))\n",
    "\n",
    "x21 = np.linspace(np.min(x_nonlin[:,1]), np.max(x_nonlin[:,1]), 500)\n",
    "scale21 = 500/(np.max(x_nonlin[:,1]) - np.min(x_nonlin[:,1]))\n",
    "\n",
    "\n",
    "y_list1 = np.zeros((500, 500))\n",
    "\n",
    "for i in range(500):\n",
    "    for j in range(500):\n",
    "        y_list1[i, j] = svm_test(np.array([[x11[i], x21[j]]]), sv_x1, sv_y1, alphas1, intercept1, 'polynomial', P = 2, gamma = 1)"
   ]
  },
  {
   "cell_type": "code",
   "execution_count": 19,
   "id": "1df96ae8",
   "metadata": {},
   "outputs": [
    {
     "data": {
      "text/plain": [
       "<matplotlib.collections.PathCollection at 0x1c190e31250>"
      ]
     },
     "execution_count": 19,
     "metadata": {},
     "output_type": "execute_result"
    },
    {
     "data": {
      "image/png": "[encoded data removed]",
      "text/plain": [
       "<Figure size 864x720 with 1 Axes>"
      ]
     },
     "metadata": {
      "needs_background": "light"
     },
     "output_type": "display_data"
    }
   ],
   "source": [
    "class11 = []\n",
    "class21 = []\n",
    "\n",
    "for i in range(y_nonlin.shape[0]):\n",
    "    if y_nonlin[i] == 1:\n",
    "        class11.append(x_nonlin[i])\n",
    "    elif y_nonlin[i] == -1:\n",
    "        class21.append(x_nonlin[i])\n",
    "\n",
    "class11 = np.array(class11)\n",
    "class21 = np.array(class21)\n",
    "\n",
    "fig1, ax1 = plt.subplots(figsize=[12,10])\n",
    "ax1.pcolormesh(y_list1.T)\n",
    "ax1.set_title('Graph of boundary with nonlinearly seperable data')\n",
    "ax1.scatter(scale11*(sv_x1[:,0] - np.min(x_nonlin[:,0])), scale21*(sv_x1[:,1] - np.min(x_nonlin[:,1])), color = 'b')\n",
    "ax1.scatter(scale11*(class21[:,0] - np.min(x_nonlin[:,0])), scale21*(class21[:,1] - np.min(x_nonlin[:,1])), color = 'g', marker = '+')\n",
    "ax1.scatter(scale11*(class11[:,0] - np.min(x_nonlin[:,0])), scale21*(class11[:,1] - np.min(x_nonlin[:,1])), color = 'r', marker = '+')"
   ]
  }
 ],
 "metadata": {
  "kernelspec": {
   "display_name": "Python 3 (ipykernel)",
   "language": "python",
   "name": "python3"
  },
  "language_info": {
   "codemirror_mode": {
    "name": "ipython",
    "version": 3
   },
   "file_extension": ".py",
   "mimetype": "text/x-python",
   "name": "python",
   "nbconvert_exporter": "python",
   "pygments_lexer": "ipython3",
   "version": "3.9.7"
  }
 },
 "nbformat": 4,
 "nbformat_minor": 5
}
